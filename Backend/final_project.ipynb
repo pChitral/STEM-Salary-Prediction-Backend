{
 "cells": [
  {
   "cell_type": "code",
   "execution_count": 3,
   "metadata": {},
   "outputs": [],
   "source": [
    "import pandas as pd\n",
    "import sqlalchemy\n"
   ]
  },
  {
   "cell_type": "code",
   "execution_count": 4,
   "metadata": {},
   "outputs": [],
   "source": [
    "df = pd.read_csv('data/Levels_Fyi_Salary_Data.csv')\n"
   ]
  },
  {
   "cell_type": "code",
   "execution_count": 5,
   "metadata": {},
   "outputs": [],
   "source": [
    "df.dropna(inplace=True)\n"
   ]
  },
  {
   "cell_type": "code",
   "execution_count": 6,
   "metadata": {},
   "outputs": [
    {
     "name": "stdout",
     "output_type": "stream",
     "text": [
      "We have 21521 rows in our database!\n"
     ]
    }
   ],
   "source": [
    "print(f\"We have {len(df)} rows in our database!\")\n"
   ]
  },
  {
   "cell_type": "code",
   "execution_count": 7,
   "metadata": {},
   "outputs": [
    {
     "data": {
      "text/html": [
       "<div>\n",
       "<style scoped>\n",
       "    .dataframe tbody tr th:only-of-type {\n",
       "        vertical-align: middle;\n",
       "    }\n",
       "\n",
       "    .dataframe tbody tr th {\n",
       "        vertical-align: top;\n",
       "    }\n",
       "\n",
       "    .dataframe thead th {\n",
       "        text-align: right;\n",
       "    }\n",
       "</style>\n",
       "<table border=\"1\" class=\"dataframe\">\n",
       "  <thead>\n",
       "    <tr style=\"text-align: right;\">\n",
       "      <th></th>\n",
       "      <th>timestamp</th>\n",
       "      <th>company</th>\n",
       "      <th>level</th>\n",
       "      <th>title</th>\n",
       "      <th>totalyearlycompensation</th>\n",
       "      <th>location</th>\n",
       "      <th>yearsofexperience</th>\n",
       "      <th>yearsatcompany</th>\n",
       "      <th>tag</th>\n",
       "      <th>basesalary</th>\n",
       "      <th>...</th>\n",
       "      <th>Doctorate_Degree</th>\n",
       "      <th>Highschool</th>\n",
       "      <th>Some_College</th>\n",
       "      <th>Race_Asian</th>\n",
       "      <th>Race_White</th>\n",
       "      <th>Race_Two_Or_More</th>\n",
       "      <th>Race_Black</th>\n",
       "      <th>Race_Hispanic</th>\n",
       "      <th>Race</th>\n",
       "      <th>Education</th>\n",
       "    </tr>\n",
       "  </thead>\n",
       "  <tbody>\n",
       "    <tr>\n",
       "      <th>61981</th>\n",
       "      <td>2/15/2021 19:50:36</td>\n",
       "      <td>Facebook</td>\n",
       "      <td>M2</td>\n",
       "      <td>Software Engineering Manager</td>\n",
       "      <td>1470000</td>\n",
       "      <td>Menlo Park, CA</td>\n",
       "      <td>9.0</td>\n",
       "      <td>7.0</td>\n",
       "      <td>Full Stack</td>\n",
       "      <td>290000.0</td>\n",
       "      <td>...</td>\n",
       "      <td>0</td>\n",
       "      <td>0</td>\n",
       "      <td>0</td>\n",
       "      <td>1</td>\n",
       "      <td>0</td>\n",
       "      <td>0</td>\n",
       "      <td>0</td>\n",
       "      <td>0</td>\n",
       "      <td>Asian</td>\n",
       "      <td>Bachelor's Degree</td>\n",
       "    </tr>\n",
       "    <tr>\n",
       "      <th>61982</th>\n",
       "      <td>3/9/2021 17:03:07</td>\n",
       "      <td>Google</td>\n",
       "      <td>L10</td>\n",
       "      <td>Product Manager</td>\n",
       "      <td>4500000</td>\n",
       "      <td>San Francisco, CA</td>\n",
       "      <td>20.0</td>\n",
       "      <td>14.0</td>\n",
       "      <td>Consumer</td>\n",
       "      <td>450000.0</td>\n",
       "      <td>...</td>\n",
       "      <td>0</td>\n",
       "      <td>0</td>\n",
       "      <td>0</td>\n",
       "      <td>1</td>\n",
       "      <td>0</td>\n",
       "      <td>0</td>\n",
       "      <td>0</td>\n",
       "      <td>0</td>\n",
       "      <td>Asian</td>\n",
       "      <td>Master's Degree</td>\n",
       "    </tr>\n",
       "    <tr>\n",
       "      <th>61984</th>\n",
       "      <td>3/25/2021 10:45:03</td>\n",
       "      <td>Zapier</td>\n",
       "      <td>L8</td>\n",
       "      <td>Software Engineering Manager</td>\n",
       "      <td>1605000</td>\n",
       "      <td>Denver, CO</td>\n",
       "      <td>16.0</td>\n",
       "      <td>2.0</td>\n",
       "      <td>Full Stack</td>\n",
       "      <td>250000.0</td>\n",
       "      <td>...</td>\n",
       "      <td>0</td>\n",
       "      <td>0</td>\n",
       "      <td>0</td>\n",
       "      <td>0</td>\n",
       "      <td>1</td>\n",
       "      <td>0</td>\n",
       "      <td>0</td>\n",
       "      <td>0</td>\n",
       "      <td>White</td>\n",
       "      <td>Master's Degree</td>\n",
       "    </tr>\n",
       "    <tr>\n",
       "      <th>61987</th>\n",
       "      <td>5/18/2021 15:34:21</td>\n",
       "      <td>Facebook</td>\n",
       "      <td>D1</td>\n",
       "      <td>Software Engineering Manager</td>\n",
       "      <td>2372000</td>\n",
       "      <td>Menlo Park, CA</td>\n",
       "      <td>22.0</td>\n",
       "      <td>2.0</td>\n",
       "      <td>ML / AI</td>\n",
       "      <td>315000.0</td>\n",
       "      <td>...</td>\n",
       "      <td>0</td>\n",
       "      <td>0</td>\n",
       "      <td>0</td>\n",
       "      <td>0</td>\n",
       "      <td>0</td>\n",
       "      <td>0</td>\n",
       "      <td>1</td>\n",
       "      <td>0</td>\n",
       "      <td>Black</td>\n",
       "      <td>Master's Degree</td>\n",
       "    </tr>\n",
       "    <tr>\n",
       "      <th>61991</th>\n",
       "      <td>7/30/2021 22:23:24</td>\n",
       "      <td>Facebook</td>\n",
       "      <td>E9</td>\n",
       "      <td>Product Manager</td>\n",
       "      <td>4980000</td>\n",
       "      <td>Menlo Park, CA</td>\n",
       "      <td>17.0</td>\n",
       "      <td>0.0</td>\n",
       "      <td>Product</td>\n",
       "      <td>380000.0</td>\n",
       "      <td>...</td>\n",
       "      <td>0</td>\n",
       "      <td>0</td>\n",
       "      <td>0</td>\n",
       "      <td>1</td>\n",
       "      <td>0</td>\n",
       "      <td>0</td>\n",
       "      <td>0</td>\n",
       "      <td>0</td>\n",
       "      <td>Asian</td>\n",
       "      <td>Master's Degree</td>\n",
       "    </tr>\n",
       "  </tbody>\n",
       "</table>\n",
       "<p>5 rows × 29 columns</p>\n",
       "</div>"
      ],
      "text/plain": [
       "                timestamp   company level                         title  \\\n",
       "61981  2/15/2021 19:50:36  Facebook    M2  Software Engineering Manager   \n",
       "61982   3/9/2021 17:03:07    Google   L10               Product Manager   \n",
       "61984  3/25/2021 10:45:03    Zapier    L8  Software Engineering Manager   \n",
       "61987  5/18/2021 15:34:21  Facebook    D1  Software Engineering Manager   \n",
       "61991  7/30/2021 22:23:24  Facebook    E9               Product Manager   \n",
       "\n",
       "       totalyearlycompensation           location  yearsofexperience  \\\n",
       "61981                  1470000     Menlo Park, CA                9.0   \n",
       "61982                  4500000  San Francisco, CA               20.0   \n",
       "61984                  1605000         Denver, CO               16.0   \n",
       "61987                  2372000     Menlo Park, CA               22.0   \n",
       "61991                  4980000     Menlo Park, CA               17.0   \n",
       "\n",
       "       yearsatcompany         tag  basesalary  ...  Doctorate_Degree  \\\n",
       "61981             7.0  Full Stack    290000.0  ...                 0   \n",
       "61982            14.0    Consumer    450000.0  ...                 0   \n",
       "61984             2.0  Full Stack    250000.0  ...                 0   \n",
       "61987             2.0     ML / AI    315000.0  ...                 0   \n",
       "61991             0.0     Product    380000.0  ...                 0   \n",
       "\n",
       "       Highschool Some_College Race_Asian  Race_White  Race_Two_Or_More  \\\n",
       "61981           0            0          1           0                 0   \n",
       "61982           0            0          1           0                 0   \n",
       "61984           0            0          0           1                 0   \n",
       "61987           0            0          0           0                 0   \n",
       "61991           0            0          1           0                 0   \n",
       "\n",
       "       Race_Black  Race_Hispanic   Race          Education  \n",
       "61981           0              0  Asian  Bachelor's Degree  \n",
       "61982           0              0  Asian    Master's Degree  \n",
       "61984           0              0  White    Master's Degree  \n",
       "61987           1              0  Black    Master's Degree  \n",
       "61991           0              0  Asian    Master's Degree  \n",
       "\n",
       "[5 rows x 29 columns]"
      ]
     },
     "execution_count": 7,
     "metadata": {},
     "output_type": "execute_result"
    }
   ],
   "source": [
    "df.tail()\n"
   ]
  },
  {
   "attachments": {},
   "cell_type": "markdown",
   "metadata": {},
   "source": [
    "# Creating Company Table\n"
   ]
  },
  {
   "cell_type": "code",
   "execution_count": 8,
   "metadata": {},
   "outputs": [
    {
     "name": "stdout",
     "output_type": "stream",
     "text": [
      "We have 1244 unique companies in our data base\n"
     ]
    }
   ],
   "source": [
    "print(f\"We have {df['company'].nunique()} unique companies in our data base\")\n"
   ]
  },
  {
   "cell_type": "code",
   "execution_count": 9,
   "metadata": {},
   "outputs": [],
   "source": [
    "company_names = list(df['company'].unique())\n"
   ]
  },
  {
   "attachments": {},
   "cell_type": "markdown",
   "metadata": {},
   "source": [
    "We have prepared the data that needs to be inserted to our database.\n"
   ]
  },
  {
   "attachments": {},
   "cell_type": "markdown",
   "metadata": {},
   "source": [
    "# Creating Jobs Database\n"
   ]
  },
  {
   "cell_type": "code",
   "execution_count": 10,
   "metadata": {},
   "outputs": [],
   "source": [
    "import sqlite3\n",
    "\n",
    "# Connect to the database (create a new file if it doesn't exist)\n",
    "conn = sqlite3.connect('jobs_database.db')\n"
   ]
  },
  {
   "attachments": {},
   "cell_type": "markdown",
   "metadata": {},
   "source": [
    "# Creating Company table\n"
   ]
  },
  {
   "cell_type": "code",
   "execution_count": 11,
   "metadata": {},
   "outputs": [
    {
     "data": {
      "text/plain": [
       "<sqlite3.Cursor at 0x7fc0f13e2f10>"
      ]
     },
     "execution_count": 11,
     "metadata": {},
     "output_type": "execute_result"
    }
   ],
   "source": [
    "# Create a cursor object to execute SQL commands\n",
    "cursor = conn.cursor()\n",
    "\n",
    "# Create a table\n",
    "cursor.execute('''\n",
    "               CREATE TABLE Company (\n",
    "                company_id INT PRIMARY KEY,\n",
    "                company_name VARCHAR(255));\n",
    "                \n",
    "                ''')\n"
   ]
  },
  {
   "attachments": {},
   "cell_type": "markdown",
   "metadata": {},
   "source": [
    "Updating our company names list into a list of tuples because we plan to use executemany which is much faster and provides us a better performance.\n"
   ]
  },
  {
   "cell_type": "code",
   "execution_count": 12,
   "metadata": {},
   "outputs": [],
   "source": [
    "company_names_lot = []\n",
    "\n",
    "for i in range(len(company_names)):\n",
    "    company_names_lot.append((i+1, company_names[i]))\n"
   ]
  },
  {
   "cell_type": "code",
   "execution_count": 13,
   "metadata": {},
   "outputs": [
    {
     "data": {
      "text/plain": [
       "[(1, 'Google'), (2, 'Microsoft'), (3, 'Blend'), (4, 'Amazon'), (5, 'Chevron')]"
      ]
     },
     "execution_count": 13,
     "metadata": {},
     "output_type": "execute_result"
    }
   ],
   "source": [
    "company_names_lot[0:5]\n"
   ]
  },
  {
   "cell_type": "code",
   "execution_count": 14,
   "metadata": {},
   "outputs": [
    {
     "data": {
      "text/plain": [
       "<sqlite3.Cursor at 0x7fc0f13e2f10>"
      ]
     },
     "execution_count": 14,
     "metadata": {},
     "output_type": "execute_result"
    }
   ],
   "source": [
    "# Insert the list of company names into the Company table using executemany()\n",
    "cursor.executemany(\n",
    "    \"INSERT INTO Company (company_id, company_name) VALUES (?,?)\", company_names_lot)\n"
   ]
  },
  {
   "cell_type": "code",
   "execution_count": 15,
   "metadata": {},
   "outputs": [],
   "source": [
    "# Commit the changes\n",
    "conn.commit()\n",
    "\n",
    "# Close the connection\n",
    "conn.close()\n"
   ]
  },
  {
   "attachments": {},
   "cell_type": "markdown",
   "metadata": {},
   "source": [
    "# Creating Levels Table\n"
   ]
  },
  {
   "cell_type": "code",
   "execution_count": 16,
   "metadata": {},
   "outputs": [],
   "source": [
    "def create_lot(df, colname):\n",
    "    \"\"\"\n",
    "    Create a list of tuples containing unique values from a specified column of a pandas DataFrame.\n",
    "\n",
    "    Args:\n",
    "    - df: pandas DataFrame containing the data\n",
    "    - colname: name of the column to extract unique values from\n",
    "\n",
    "    Returns:\n",
    "    - lot: list of tuples, where each tuple contains an index and a unique value from the specified column\n",
    "    \"\"\"\n",
    "    # Get the number of unique values in the specified column\n",
    "    num_unique = df[colname].nunique()\n",
    "    print(f\"We have a total of {num_unique} values\")\n",
    "\n",
    "    # Initialize an empty list to store the tuples\n",
    "    lot = []\n",
    "\n",
    "    # Loop over the unique values and append them to the list as tuples\n",
    "    for idx, val in enumerate(list(df[colname].unique())):\n",
    "        lot.append((idx+1, val))\n",
    "\n",
    "    # Return the list of tuples\n",
    "    return lot\n"
   ]
  },
  {
   "cell_type": "code",
   "execution_count": 17,
   "metadata": {},
   "outputs": [
    {
     "name": "stdout",
     "output_type": "stream",
     "text": [
      "We have a total of 1601 values\n"
     ]
    }
   ],
   "source": [
    "levels_lot = create_lot(df, 'level')\n"
   ]
  },
  {
   "attachments": {},
   "cell_type": "markdown",
   "metadata": {},
   "source": []
  },
  {
   "cell_type": "code",
   "execution_count": 18,
   "metadata": {},
   "outputs": [],
   "source": [
    "conn = sqlite3.connect('jobs_database.db')\n",
    "\n",
    "# Create a cursor object to execute SQL commands\n",
    "cursor = conn.cursor()\n"
   ]
  },
  {
   "cell_type": "code",
   "execution_count": 19,
   "metadata": {},
   "outputs": [
    {
     "data": {
      "text/plain": [
       "<sqlite3.Cursor at 0x7fc0f13e2500>"
      ]
     },
     "execution_count": 19,
     "metadata": {},
     "output_type": "execute_result"
    }
   ],
   "source": [
    "# Create a table\n",
    "cursor.execute('''\n",
    "               CREATE TABLE Level (\n",
    "                level_id INT PRIMARY KEY,\n",
    "                level_name VARCHAR(255)\n",
    "                );\n",
    "                ''')\n"
   ]
  },
  {
   "cell_type": "code",
   "execution_count": 20,
   "metadata": {},
   "outputs": [
    {
     "data": {
      "text/plain": [
       "<sqlite3.Cursor at 0x7fc0f13e2500>"
      ]
     },
     "execution_count": 20,
     "metadata": {},
     "output_type": "execute_result"
    }
   ],
   "source": [
    "# Insert the list of company names into the Company table using executemany()\n",
    "cursor.executemany(\n",
    "    \"INSERT INTO Level (level_id, level_name) VALUES (?,?)\", levels_lot)\n"
   ]
  },
  {
   "cell_type": "code",
   "execution_count": 21,
   "metadata": {},
   "outputs": [],
   "source": [
    "# Commit the changes\n",
    "conn.commit()\n",
    "\n",
    "# Close the connection\n",
    "conn.close()\n"
   ]
  },
  {
   "attachments": {},
   "cell_type": "markdown",
   "metadata": {},
   "source": [
    "# Creating Job Title Table\n"
   ]
  },
  {
   "cell_type": "code",
   "execution_count": 22,
   "metadata": {},
   "outputs": [
    {
     "name": "stdout",
     "output_type": "stream",
     "text": [
      "We have a total of 1542 values\n"
     ]
    }
   ],
   "source": [
    "tag_lot = create_lot(df, 'tag')\n"
   ]
  },
  {
   "cell_type": "code",
   "execution_count": 23,
   "metadata": {},
   "outputs": [],
   "source": [
    "def create_and_insert_table(create_query, insert_query, lot):\n",
    "\n",
    "    conn = sqlite3.connect('jobs_database.db')\n",
    "\n",
    "    # Create a cursor object to execute SQL commands\n",
    "    cursor = conn.cursor()\n",
    "\n",
    "    # Create a table\n",
    "    cursor.execute(create_query)\n",
    "\n",
    "    cursor.executemany(insert_query, lot)\n",
    "\n",
    "    # Commit the changes\n",
    "    conn.commit()\n",
    "\n",
    "    conn.close()\n"
   ]
  },
  {
   "cell_type": "code",
   "execution_count": 24,
   "metadata": {},
   "outputs": [],
   "source": [
    "create_and_insert_table(\"\"\"CREATE TABLE Tag (\n",
    "  tag_id INT PRIMARY KEY,\n",
    "  tag_name VARCHAR(255)\n",
    "); \"\"\", \" INSERT INTO Tag (tag_id, tag_name) VALUES (?,?)\", tag_lot)\n"
   ]
  },
  {
   "cell_type": "code",
   "execution_count": 25,
   "metadata": {},
   "outputs": [
    {
     "name": "stdout",
     "output_type": "stream",
     "text": [
      "We have a total of 5 values\n"
     ]
    }
   ],
   "source": [
    "race_lot = create_lot(df, 'Race')\n"
   ]
  },
  {
   "cell_type": "code",
   "execution_count": 26,
   "metadata": {},
   "outputs": [],
   "source": [
    "create_and_insert_table(\"\"\"CREATE TABLE Race (\n",
    "  race_id INT PRIMARY KEY,\n",
    "  race_name VARCHAR(255)\n",
    "); \"\"\", 'INSERT INTO Race (race_id, race_name) VALUES (?,?)', race_lot)\n"
   ]
  },
  {
   "attachments": {},
   "cell_type": "markdown",
   "metadata": {},
   "source": [
    "# Creating Education Table\n"
   ]
  },
  {
   "cell_type": "code",
   "execution_count": 27,
   "metadata": {},
   "outputs": [
    {
     "name": "stdout",
     "output_type": "stream",
     "text": [
      "We have a total of 5 values\n"
     ]
    }
   ],
   "source": [
    "edu_lot = create_lot(df, 'Education')\n"
   ]
  },
  {
   "cell_type": "code",
   "execution_count": 28,
   "metadata": {},
   "outputs": [],
   "source": [
    "create_and_insert_table(\"\"\"CREATE TABLE Education (\n",
    "  edu_id INT PRIMARY KEY,\n",
    "  edu_name VARCHAR(255)\n",
    "); \"\"\", \" INSERT INTO Education (edu_id, edu_name) VALUES (?,?)\", edu_lot)\n"
   ]
  },
  {
   "attachments": {},
   "cell_type": "markdown",
   "metadata": {},
   "source": [
    "# Creating City Table\n"
   ]
  },
  {
   "cell_type": "code",
   "execution_count": 29,
   "metadata": {},
   "outputs": [],
   "source": [
    "# Split the 'location' column into 'city' and 'state' columns\n",
    "df[['city', 'state']] = df['location'].str.split(', ', n=1, expand=True)\n",
    "df['city'] = df['city'].str.strip()\n"
   ]
  },
  {
   "cell_type": "code",
   "execution_count": 30,
   "metadata": {},
   "outputs": [],
   "source": [
    "if \"KG, Korea, South\" in df['state']:\n",
    "    print(\"sdf\")\n"
   ]
  },
  {
   "cell_type": "code",
   "execution_count": 31,
   "metadata": {},
   "outputs": [
    {
     "name": "stdout",
     "output_type": "stream",
     "text": [
      "We have a total of 708 values\n"
     ]
    }
   ],
   "source": [
    "city_lot = create_lot(df, 'city')\n"
   ]
  },
  {
   "cell_type": "code",
   "execution_count": 32,
   "metadata": {},
   "outputs": [],
   "source": [
    "create_and_insert_table(\"\"\"CREATE Table City (\n",
    "  city_id INT PRIMARY KEY,\n",
    "  city_name VARCHAR(255)\n",
    "); \"\"\", \" INSERT INTO City (city_id, city_name) VALUES (?,?)\", city_lot)\n"
   ]
  },
  {
   "attachments": {},
   "cell_type": "markdown",
   "metadata": {},
   "source": [
    "# Create State Table\n"
   ]
  },
  {
   "cell_type": "code",
   "execution_count": 33,
   "metadata": {},
   "outputs": [
    {
     "name": "stdout",
     "output_type": "stream",
     "text": [
      "We have a total of 216 values\n"
     ]
    }
   ],
   "source": [
    "state_lot = create_lot(df, 'state')\n",
    "\n",
    "states, countries = [], []\n",
    "for tuple in state_lot:\n",
    "    try:\n",
    "        state, country = tuple[1].split(',')\n",
    "        states.append(state.strip())\n",
    "        countries.append(country.strip())\n",
    "    except:\n",
    "        state = tuple[1]\n",
    "        country = \"United States\"\n",
    "        states.append(state.strip())\n",
    "        countries.append(country.strip())\n",
    "\n",
    "temp_df = pd.DataFrame()\n",
    "temp_df['states'] = states\n",
    "temp_df['countries'] = countries\n"
   ]
  },
  {
   "cell_type": "code",
   "execution_count": 34,
   "metadata": {},
   "outputs": [],
   "source": [
    "\n",
    "df_testing = pd.DataFrame()\n",
    "# Use str.extract() to extract the state code from the 'location' column\n",
    "df_testing['state-new'] = df['location'].str.extract(\n",
    "    r',\\s*([A-Z]{2})$', expand=False)\n",
    "\n",
    "# Print the resulting DataFrame\n",
    "if 'JM' in df_testing['state-new']:\n",
    "    print(\"True\")\n"
   ]
  },
  {
   "cell_type": "code",
   "execution_count": 35,
   "metadata": {},
   "outputs": [
    {
     "data": {
      "text/plain": [
       "49"
      ]
     },
     "execution_count": 35,
     "metadata": {},
     "output_type": "execute_result"
    }
   ],
   "source": [
    "df_testing['state-new'].nunique()\n"
   ]
  },
  {
   "cell_type": "code",
   "execution_count": 36,
   "metadata": {},
   "outputs": [
    {
     "data": {
      "text/plain": [
       "[(207, 'SR, Russia'),\n",
       " (208, 'TO, Uzbekistan'),\n",
       " (209, 'VC, Colombia'),\n",
       " (210, 'AN, Colombia'),\n",
       " (211, 'CJ, Romania')]"
      ]
     },
     "execution_count": 36,
     "metadata": {},
     "output_type": "execute_result"
    }
   ],
   "source": [
    "state_lot[-10:-5]\n"
   ]
  },
  {
   "cell_type": "code",
   "execution_count": 37,
   "metadata": {},
   "outputs": [],
   "source": [
    "# states, countries = [], []\n",
    "# for tuple in state_lot:\n",
    "#     try:\n",
    "#         state, country = tuple[1].split(',')\n",
    "#         states.append(state.strip())\n",
    "#         countries.append(country.strip())\n",
    "#     except:\n",
    "#         state = tuple[1]\n",
    "#         country = \"United States\"\n",
    "#         states.append(state.strip())\n",
    "#         countries.append(country.strip())\n",
    "\n",
    "# temp_df = pd.DataFrame()\n",
    "# temp_df['states'] = states\n",
    "# temp_df['countries'] = countries\n"
   ]
  },
  {
   "cell_type": "code",
   "execution_count": 38,
   "metadata": {},
   "outputs": [
    {
     "data": {
      "text/html": [
       "<div>\n",
       "<style scoped>\n",
       "    .dataframe tbody tr th:only-of-type {\n",
       "        vertical-align: middle;\n",
       "    }\n",
       "\n",
       "    .dataframe tbody tr th {\n",
       "        vertical-align: top;\n",
       "    }\n",
       "\n",
       "    .dataframe thead th {\n",
       "        text-align: right;\n",
       "    }\n",
       "</style>\n",
       "<table border=\"1\" class=\"dataframe\">\n",
       "  <thead>\n",
       "    <tr style=\"text-align: right;\">\n",
       "      <th></th>\n",
       "      <th>states</th>\n",
       "      <th>countries</th>\n",
       "    </tr>\n",
       "  </thead>\n",
       "  <tbody>\n",
       "    <tr>\n",
       "      <th>0</th>\n",
       "      <td>CA</td>\n",
       "      <td>United States</td>\n",
       "    </tr>\n",
       "    <tr>\n",
       "      <th>1</th>\n",
       "      <td>WA</td>\n",
       "      <td>United States</td>\n",
       "    </tr>\n",
       "    <tr>\n",
       "      <th>2</th>\n",
       "      <td>TX</td>\n",
       "      <td>United States</td>\n",
       "    </tr>\n",
       "    <tr>\n",
       "      <th>3</th>\n",
       "      <td>ON</td>\n",
       "      <td>Canada</td>\n",
       "    </tr>\n",
       "    <tr>\n",
       "      <th>4</th>\n",
       "      <td>BC</td>\n",
       "      <td>Canada</td>\n",
       "    </tr>\n",
       "  </tbody>\n",
       "</table>\n",
       "</div>"
      ],
      "text/plain": [
       "  states      countries\n",
       "0     CA  United States\n",
       "1     WA  United States\n",
       "2     TX  United States\n",
       "3     ON         Canada\n",
       "4     BC         Canada"
      ]
     },
     "execution_count": 38,
     "metadata": {},
     "output_type": "execute_result"
    }
   ],
   "source": [
    "temp_df.head()\n"
   ]
  },
  {
   "cell_type": "code",
   "execution_count": 39,
   "metadata": {},
   "outputs": [],
   "source": [
    "temp_df['states'] = temp_df['states'].replace('KG, Korea, South', 'KG')\n"
   ]
  },
  {
   "cell_type": "code",
   "execution_count": 40,
   "metadata": {},
   "outputs": [
    {
     "data": {
      "text/plain": [
       "array(['CA', 'WA', 'TX', 'ON', 'BC', 'KA', 'AZ', 'NY', 'IL', 'HR', 'AP',\n",
       "       'MH', 'MA', 'NC', 'VA', 'CO', 'EN', 'FL', 'WI', 'HK', 'GD', 'DC',\n",
       "       'GY', 'OR', 'MI', 'MN', 'MO', 'BE', 'MC', 'PA', 'TN', 'TA', 'SG',\n",
       "       'UT', 'NJ', 'NH', 'DN', 'ZJ', 'KD', 'SP', 'BJ', 'PR', 'LA', 'GA',\n",
       "       'TY', 'AR', 'TS', 'ZH', 'MZ', 'IA', 'BY', 'NS', 'OH', 'BW', 'MD',\n",
       "       'LK', 'IN', 'KC', 'PI', 'QC', 'MT', 'SC', 'RI', 'SH', 'CT', 'DE',\n",
       "       'IS', 'OK', 'NV', 'DL', 'UP', 'WC', 'AL', 'NW', 'BU', 'SR', 'BR',\n",
       "       'JS', 'KS', 'MB', 'LV', 'JK', 'PO', 'VI', 'CE', 'MG', 'HA', 'TP',\n",
       "       'JM', 'HM', 'KL', 'HB', 'KY', 'HE', 'CK', 'GJ', 'DU', 'ST', 'AU',\n",
       "       'WV', 'DS', 'HH', 'NE', 'DF', 'LI', 'MM', 'KG', 'ES', 'QL', 'SN',\n",
       "       'JA', 'MS', 'AB', 'HC', 'ID', 'BS', 'GE', 'DA', 'NI', 'PM', 'KK',\n",
       "       'LU', 'SJ', 'LO', 'CU', 'NZ', 'LD', 'VE', 'BL', 'HI', 'KN', 'SV',\n",
       "       'MY', 'JH', 'NM', 'MK', 'PG', 'MX', 'HD', 'OS', 'NA', 'RS', 'BM',\n",
       "       'AN', 'ND', 'VT', 'SF', 'RM', 'VL', 'WH', 'TR', 'WB', 'NB', 'WY',\n",
       "       'VG', 'AA', 'GT', 'SK', 'AC', 'TT', 'VD', 'ME', 'TO', 'VC', 'CJ',\n",
       "       'CN', 'ER', 'TW', 'KH', 'JZ'], dtype=object)"
      ]
     },
     "execution_count": 40,
     "metadata": {},
     "output_type": "execute_result"
    }
   ],
   "source": [
    "temp_df['states'].unique()\n"
   ]
  },
  {
   "cell_type": "code",
   "execution_count": 41,
   "metadata": {},
   "outputs": [
    {
     "name": "stdout",
     "output_type": "stream",
     "text": [
      "We have a total of 170 values\n"
     ]
    }
   ],
   "source": [
    "states_lot = create_lot(temp_df, 'states')\n"
   ]
  },
  {
   "cell_type": "code",
   "execution_count": 42,
   "metadata": {},
   "outputs": [],
   "source": [
    "create_and_insert_table(\"\"\"CREATE TABLE State (\n",
    "  state_id INT PRIMARY KEY,\n",
    "  state_name VARCHAR(255)\n",
    "); \"\"\", \" INSERT INTO State (state_id, state_name) VALUES (?,?)\", states_lot)\n"
   ]
  },
  {
   "attachments": {},
   "cell_type": "markdown",
   "metadata": {},
   "source": [
    "# Creating Country Table\n"
   ]
  },
  {
   "cell_type": "code",
   "execution_count": 43,
   "metadata": {},
   "outputs": [
    {
     "name": "stdout",
     "output_type": "stream",
     "text": [
      "We have a total of 64 values\n"
     ]
    }
   ],
   "source": [
    "countries_lot = create_lot(temp_df, 'countries')\n"
   ]
  },
  {
   "cell_type": "code",
   "execution_count": 44,
   "metadata": {},
   "outputs": [],
   "source": [
    "# Integrate Autoincrement for Primary Key\n",
    "create_and_insert_table(\"\"\"CREATE TABLE Country (\n",
    "  country_id INT PRIMARY KEY,\n",
    "  country_name VARCHAR(255)\n",
    "); \"\"\", \" INSERT INTO Country (country_id, country_name) VALUES (?,?)\", countries_lot)\n"
   ]
  },
  {
   "cell_type": "code",
   "execution_count": 45,
   "metadata": {},
   "outputs": [
    {
     "data": {
      "text/html": [
       "<div>\n",
       "<style scoped>\n",
       "    .dataframe tbody tr th:only-of-type {\n",
       "        vertical-align: middle;\n",
       "    }\n",
       "\n",
       "    .dataframe tbody tr th {\n",
       "        vertical-align: top;\n",
       "    }\n",
       "\n",
       "    .dataframe thead th {\n",
       "        text-align: right;\n",
       "    }\n",
       "</style>\n",
       "<table border=\"1\" class=\"dataframe\">\n",
       "  <thead>\n",
       "    <tr style=\"text-align: right;\">\n",
       "      <th></th>\n",
       "      <th>timestamp</th>\n",
       "      <th>company</th>\n",
       "      <th>level</th>\n",
       "      <th>title</th>\n",
       "      <th>totalyearlycompensation</th>\n",
       "      <th>location</th>\n",
       "      <th>yearsofexperience</th>\n",
       "      <th>yearsatcompany</th>\n",
       "      <th>tag</th>\n",
       "      <th>basesalary</th>\n",
       "      <th>...</th>\n",
       "      <th>Some_College</th>\n",
       "      <th>Race_Asian</th>\n",
       "      <th>Race_White</th>\n",
       "      <th>Race_Two_Or_More</th>\n",
       "      <th>Race_Black</th>\n",
       "      <th>Race_Hispanic</th>\n",
       "      <th>Race</th>\n",
       "      <th>Education</th>\n",
       "      <th>city</th>\n",
       "      <th>state</th>\n",
       "    </tr>\n",
       "  </thead>\n",
       "  <tbody>\n",
       "    <tr>\n",
       "      <th>15710</th>\n",
       "      <td>1/27/2020 22:59:06</td>\n",
       "      <td>Google</td>\n",
       "      <td>L6</td>\n",
       "      <td>Software Engineer</td>\n",
       "      <td>400000</td>\n",
       "      <td>Sunnyvale, CA</td>\n",
       "      <td>5.0</td>\n",
       "      <td>5.0</td>\n",
       "      <td>Distributed Systems (Back-End)</td>\n",
       "      <td>210000.0</td>\n",
       "      <td>...</td>\n",
       "      <td>0</td>\n",
       "      <td>1</td>\n",
       "      <td>0</td>\n",
       "      <td>0</td>\n",
       "      <td>0</td>\n",
       "      <td>0</td>\n",
       "      <td>Asian</td>\n",
       "      <td>PhD</td>\n",
       "      <td>Sunnyvale</td>\n",
       "      <td>CA</td>\n",
       "    </tr>\n",
       "    <tr>\n",
       "      <th>23532</th>\n",
       "      <td>7/3/2020 19:56:38</td>\n",
       "      <td>Microsoft</td>\n",
       "      <td>61</td>\n",
       "      <td>Software Engineer</td>\n",
       "      <td>136000</td>\n",
       "      <td>Redmond, WA</td>\n",
       "      <td>3.0</td>\n",
       "      <td>2.0</td>\n",
       "      <td>DevOps</td>\n",
       "      <td>124000.0</td>\n",
       "      <td>...</td>\n",
       "      <td>0</td>\n",
       "      <td>0</td>\n",
       "      <td>0</td>\n",
       "      <td>1</td>\n",
       "      <td>0</td>\n",
       "      <td>0</td>\n",
       "      <td>Two Or More</td>\n",
       "      <td>Bachelor's Degree</td>\n",
       "      <td>Redmond</td>\n",
       "      <td>WA</td>\n",
       "    </tr>\n",
       "    <tr>\n",
       "      <th>23533</th>\n",
       "      <td>7/3/2020 20:03:57</td>\n",
       "      <td>Google</td>\n",
       "      <td>L5</td>\n",
       "      <td>Software Engineer</td>\n",
       "      <td>337000</td>\n",
       "      <td>San Bruno, CA</td>\n",
       "      <td>6.0</td>\n",
       "      <td>6.0</td>\n",
       "      <td>Full Stack</td>\n",
       "      <td>177000.0</td>\n",
       "      <td>...</td>\n",
       "      <td>0</td>\n",
       "      <td>1</td>\n",
       "      <td>0</td>\n",
       "      <td>0</td>\n",
       "      <td>0</td>\n",
       "      <td>0</td>\n",
       "      <td>Asian</td>\n",
       "      <td>Bachelor's Degree</td>\n",
       "      <td>San Bruno</td>\n",
       "      <td>CA</td>\n",
       "    </tr>\n",
       "    <tr>\n",
       "      <th>23534</th>\n",
       "      <td>7/3/2020 20:05:37</td>\n",
       "      <td>Microsoft</td>\n",
       "      <td>62</td>\n",
       "      <td>Software Engineer</td>\n",
       "      <td>222000</td>\n",
       "      <td>Seattle, WA</td>\n",
       "      <td>4.0</td>\n",
       "      <td>4.0</td>\n",
       "      <td>API Development (Back-End)</td>\n",
       "      <td>164000.0</td>\n",
       "      <td>...</td>\n",
       "      <td>0</td>\n",
       "      <td>1</td>\n",
       "      <td>0</td>\n",
       "      <td>0</td>\n",
       "      <td>0</td>\n",
       "      <td>0</td>\n",
       "      <td>Asian</td>\n",
       "      <td>Master's Degree</td>\n",
       "      <td>Seattle</td>\n",
       "      <td>WA</td>\n",
       "    </tr>\n",
       "    <tr>\n",
       "      <th>23535</th>\n",
       "      <td>7/3/2020 20:19:06</td>\n",
       "      <td>Blend</td>\n",
       "      <td>IC3</td>\n",
       "      <td>Software Engineer</td>\n",
       "      <td>187000</td>\n",
       "      <td>San Francisco, CA</td>\n",
       "      <td>5.0</td>\n",
       "      <td>0.0</td>\n",
       "      <td>Full Stack</td>\n",
       "      <td>165000.0</td>\n",
       "      <td>...</td>\n",
       "      <td>0</td>\n",
       "      <td>0</td>\n",
       "      <td>1</td>\n",
       "      <td>0</td>\n",
       "      <td>0</td>\n",
       "      <td>0</td>\n",
       "      <td>White</td>\n",
       "      <td>Bachelor's Degree</td>\n",
       "      <td>San Francisco</td>\n",
       "      <td>CA</td>\n",
       "    </tr>\n",
       "  </tbody>\n",
       "</table>\n",
       "<p>5 rows × 31 columns</p>\n",
       "</div>"
      ],
      "text/plain": [
       "                timestamp    company level              title  \\\n",
       "15710  1/27/2020 22:59:06     Google    L6  Software Engineer   \n",
       "23532   7/3/2020 19:56:38  Microsoft    61  Software Engineer   \n",
       "23533   7/3/2020 20:03:57     Google    L5  Software Engineer   \n",
       "23534   7/3/2020 20:05:37  Microsoft    62  Software Engineer   \n",
       "23535   7/3/2020 20:19:06      Blend   IC3  Software Engineer   \n",
       "\n",
       "       totalyearlycompensation           location  yearsofexperience  \\\n",
       "15710                   400000      Sunnyvale, CA                5.0   \n",
       "23532                   136000        Redmond, WA                3.0   \n",
       "23533                   337000      San Bruno, CA                6.0   \n",
       "23534                   222000        Seattle, WA                4.0   \n",
       "23535                   187000  San Francisco, CA                5.0   \n",
       "\n",
       "       yearsatcompany                             tag  basesalary  ...  \\\n",
       "15710             5.0  Distributed Systems (Back-End)    210000.0  ...   \n",
       "23532             2.0                          DevOps    124000.0  ...   \n",
       "23533             6.0                      Full Stack    177000.0  ...   \n",
       "23534             4.0      API Development (Back-End)    164000.0  ...   \n",
       "23535             0.0                      Full Stack    165000.0  ...   \n",
       "\n",
       "       Some_College  Race_Asian Race_White Race_Two_Or_More  Race_Black  \\\n",
       "15710             0           1          0                0           0   \n",
       "23532             0           0          0                1           0   \n",
       "23533             0           1          0                0           0   \n",
       "23534             0           1          0                0           0   \n",
       "23535             0           0          1                0           0   \n",
       "\n",
       "       Race_Hispanic         Race          Education           city  state  \n",
       "15710              0        Asian                PhD      Sunnyvale     CA  \n",
       "23532              0  Two Or More  Bachelor's Degree        Redmond     WA  \n",
       "23533              0        Asian  Bachelor's Degree      San Bruno     CA  \n",
       "23534              0        Asian    Master's Degree        Seattle     WA  \n",
       "23535              0        White  Bachelor's Degree  San Francisco     CA  \n",
       "\n",
       "[5 rows x 31 columns]"
      ]
     },
     "execution_count": 45,
     "metadata": {},
     "output_type": "execute_result"
    }
   ],
   "source": [
    "df.head()\n"
   ]
  },
  {
   "attachments": {},
   "cell_type": "markdown",
   "metadata": {},
   "source": [
    "# Create Title Table\n"
   ]
  },
  {
   "cell_type": "code",
   "execution_count": 46,
   "metadata": {},
   "outputs": [
    {
     "name": "stdout",
     "output_type": "stream",
     "text": [
      "We have a total of 15 values\n"
     ]
    }
   ],
   "source": [
    "title_lot = create_lot(df, 'title')\n"
   ]
  },
  {
   "cell_type": "code",
   "execution_count": 47,
   "metadata": {},
   "outputs": [],
   "source": [
    "create_and_insert_table(\"\"\"CREATE TABLE Title (\n",
    "  title_id INT PRIMARY KEY,\n",
    "  title_name VARCHAR(255)\n",
    "); \"\"\",\n",
    "                        \" INSERT INTO Title (title_id, title_name) VALUES (?,?)\",\n",
    "                        title_lot)\n"
   ]
  },
  {
   "attachments": {},
   "cell_type": "markdown",
   "metadata": {},
   "source": [
    "# Create Gender Table\n"
   ]
  },
  {
   "cell_type": "code",
   "execution_count": 48,
   "metadata": {},
   "outputs": [
    {
     "name": "stdout",
     "output_type": "stream",
     "text": [
      "We have a total of 3 values\n"
     ]
    }
   ],
   "source": [
    "gender_lot = create_lot(df, 'gender')\n"
   ]
  },
  {
   "cell_type": "code",
   "execution_count": 49,
   "metadata": {},
   "outputs": [],
   "source": [
    "create_and_insert_table(\"\"\"CREATE TABLE Gender (\n",
    "  gender_id INT PRIMARY KEY,\n",
    "  gender_type VARCHAR(255)\n",
    "); \"\"\",\n",
    "                        \" INSERT INTO Gender (gender_id, gender_type) VALUES (?,?)\",\n",
    "                        gender_lot)\n"
   ]
  },
  {
   "cell_type": "code",
   "execution_count": 50,
   "metadata": {},
   "outputs": [
    {
     "data": {
      "text/plain": [
       "15710        Sunnyvale, CA\n",
       "23532          Redmond, WA\n",
       "23533        San Bruno, CA\n",
       "23534          Seattle, WA\n",
       "23535    San Francisco, CA\n",
       "Name: location, dtype: object"
      ]
     },
     "execution_count": 50,
     "metadata": {},
     "output_type": "execute_result"
    }
   ],
   "source": [
    "df['location'].iloc[:5]\n"
   ]
  },
  {
   "attachments": {},
   "cell_type": "markdown",
   "metadata": {},
   "source": [
    "## SQL Alchemy Code\n"
   ]
  },
  {
   "cell_type": "code",
   "execution_count": 51,
   "metadata": {},
   "outputs": [
    {
     "name": "stdout",
     "output_type": "stream",
     "text": [
      "The sql extension is already loaded. To reload it, use:\n",
      "  %reload_ext sql\n"
     ]
    }
   ],
   "source": [
    "import sqlalchemy\n",
    "%load_ext sql\n",
    "sqlalchemy.create_engine(\"sqlite:///jobs_database.db\")\n",
    "%load_ext sql\n",
    "\n",
    "%sql sqlite:///jobs_database.db\n"
   ]
  },
  {
   "attachments": {},
   "cell_type": "markdown",
   "metadata": {},
   "source": [
    "## State Hashmap\n"
   ]
  },
  {
   "cell_type": "code",
   "execution_count": 52,
   "metadata": {},
   "outputs": [
    {
     "name": "stdout",
     "output_type": "stream",
     "text": [
      " * sqlite:///jobs_database.db\n",
      "Done.\n"
     ]
    }
   ],
   "source": [
    "query = \"\"\"\n",
    "SELECT * \n",
    "FROM STATE\n",
    "\"\"\"\n",
    "\n",
    "\n",
    "state_df = %sql $query\n",
    "\n",
    "state_df = pd.DataFrame(state_df)\n",
    "state_dict = {}\n",
    "for idx, val in enumerate(state_df['state_name']):\n",
    "    state_dict[val.strip()] = idx + 1\n"
   ]
  },
  {
   "cell_type": "code",
   "execution_count": 53,
   "metadata": {},
   "outputs": [
    {
     "data": {
      "text/plain": [
       "107"
      ]
     },
     "execution_count": 53,
     "metadata": {},
     "output_type": "execute_result"
    }
   ],
   "source": [
    "state_dict['KG']\n"
   ]
  },
  {
   "attachments": {},
   "cell_type": "markdown",
   "metadata": {},
   "source": [
    "## City Hashmap\n"
   ]
  },
  {
   "cell_type": "code",
   "execution_count": 54,
   "metadata": {},
   "outputs": [
    {
     "name": "stdout",
     "output_type": "stream",
     "text": [
      " * sqlite:///jobs_database.db\n",
      "Done.\n"
     ]
    }
   ],
   "source": [
    "query = \"\"\"\n",
    "SELECT * \n",
    "FROM City\n",
    "\"\"\"\n",
    "\n",
    "\n",
    "city_df = %sql $query\n",
    "\n",
    "city_df = pd.DataFrame(city_df)\n",
    "\n",
    "city_dict = {}\n",
    "\n",
    "for idx, val in enumerate(city_df['city_name']):\n",
    "    city_dict[val.strip()] = idx + 1\n"
   ]
  },
  {
   "attachments": {},
   "cell_type": "markdown",
   "metadata": {},
   "source": [
    "## Hashmap for Country\n"
   ]
  },
  {
   "cell_type": "code",
   "execution_count": 55,
   "metadata": {},
   "outputs": [
    {
     "name": "stdout",
     "output_type": "stream",
     "text": [
      " * sqlite:///jobs_database.db\n",
      "Done.\n"
     ]
    }
   ],
   "source": [
    "query = \"\"\"\n",
    "SELECT * \n",
    "FROM Country\n",
    "\"\"\"\n",
    "\n",
    "\n",
    "country_df = %sql $query\n",
    "\n",
    "country_df = pd.DataFrame(country_df)\n",
    "\n",
    "country_dict = {}\n",
    "\n",
    "for idx, val in enumerate(country_df['country_name']):\n",
    "    country_dict[val.strip()] = idx + 1\n"
   ]
  },
  {
   "cell_type": "code",
   "execution_count": 56,
   "metadata": {},
   "outputs": [
    {
     "data": {
      "text/plain": [
       "{'United States': 1,\n",
       " 'Canada': 2,\n",
       " 'India': 3,\n",
       " 'United Kingdom': 4,\n",
       " 'Hong Kong (SAR)': 5,\n",
       " 'China': 6,\n",
       " 'Ireland': 7,\n",
       " 'Germany': 8,\n",
       " 'Russia': 9,\n",
       " 'Israel': 10,\n",
       " 'Singapore': 11,\n",
       " 'Netherlands': 12,\n",
       " 'Czech Republic': 13,\n",
       " 'France': 14,\n",
       " 'Japan': 15,\n",
       " 'Switzerland': 16,\n",
       " 'Poland': 17,\n",
       " 'Brazil': 18,\n",
       " 'Australia': 19,\n",
       " 'Spain': 20,\n",
       " 'Ukraine': 21,\n",
       " 'Italy': 22,\n",
       " 'Romania': 23,\n",
       " 'South Africa': 24,\n",
       " 'Hungary': 25,\n",
       " 'Serbia': 26,\n",
       " 'Portugal': 27,\n",
       " 'Indonesia': 28,\n",
       " 'Moldova': 29,\n",
       " 'Taiwan': 30,\n",
       " 'Malaysia': 31,\n",
       " 'United Arab Emirates': 32,\n",
       " 'Sweden': 33,\n",
       " 'New Zealand': 34,\n",
       " 'Saudi Arabia': 35,\n",
       " 'Argentina': 36,\n",
       " 'Peru': 37,\n",
       " 'Philippines': 38,\n",
       " 'Norway': 39,\n",
       " 'Estonia': 40,\n",
       " 'Belarus': 41,\n",
       " 'Mexico': 42,\n",
       " 'Austria': 43,\n",
       " 'Finland': 44,\n",
       " 'Vietnam': 45,\n",
       " 'Qatar': 46,\n",
       " 'Luxembourg': 47,\n",
       " 'Costa Rica': 48,\n",
       " 'Colombia': 49,\n",
       " 'Slovakia': 50,\n",
       " 'Denmark': 51,\n",
       " 'Belgium': 52,\n",
       " 'Latvia': 53,\n",
       " 'Kenya': 54,\n",
       " 'Thailand': 55,\n",
       " 'Bulgaria': 56,\n",
       " 'Chile': 57,\n",
       " 'Lithuania': 58,\n",
       " 'Ghana': 59,\n",
       " 'Kazakhstan': 60,\n",
       " 'Nigeria': 61,\n",
       " 'Uzbekistan': 62,\n",
       " 'Armenia': 63,\n",
       " 'Egypt': 64}"
      ]
     },
     "execution_count": 56,
     "metadata": {},
     "output_type": "execute_result"
    }
   ],
   "source": [
    "country_dict\n"
   ]
  },
  {
   "cell_type": "code",
   "execution_count": 57,
   "metadata": {},
   "outputs": [
    {
     "data": {
      "text/plain": [
       "15710        Sunnyvale, CA\n",
       "23532          Redmond, WA\n",
       "23533        San Bruno, CA\n",
       "23534          Seattle, WA\n",
       "23535    San Francisco, CA\n",
       "               ...        \n",
       "61981       Menlo Park, CA\n",
       "61982    San Francisco, CA\n",
       "61984           Denver, CO\n",
       "61987       Menlo Park, CA\n",
       "61991       Menlo Park, CA\n",
       "Name: location, Length: 21521, dtype: object"
      ]
     },
     "execution_count": 57,
     "metadata": {},
     "output_type": "execute_result"
    }
   ],
   "source": [
    "df['location']\n"
   ]
  },
  {
   "cell_type": "code",
   "execution_count": 58,
   "metadata": {},
   "outputs": [],
   "source": [
    "location_lot = []\n"
   ]
  },
  {
   "cell_type": "code",
   "execution_count": 59,
   "metadata": {},
   "outputs": [],
   "source": [
    "counties_new_list = []\n",
    "\n",
    "for val in df['location']:\n",
    "    try:\n",
    "        city, state, country = val.split(',')\n",
    "        counties_new_list.append(country.strip())\n",
    "    except:\n",
    "        country = \"United States\"\n",
    "        counties_new_list.append(country)\n"
   ]
  },
  {
   "cell_type": "code",
   "execution_count": 60,
   "metadata": {},
   "outputs": [],
   "source": [
    "df['country_new'] = counties_new_list\n"
   ]
  },
  {
   "cell_type": "code",
   "execution_count": 61,
   "metadata": {},
   "outputs": [],
   "source": [
    "df['state'] = df['state'].str.split(',').str[0]\n"
   ]
  },
  {
   "cell_type": "code",
   "execution_count": 62,
   "metadata": {},
   "outputs": [
    {
     "data": {
      "text/html": [
       "<div>\n",
       "<style scoped>\n",
       "    .dataframe tbody tr th:only-of-type {\n",
       "        vertical-align: middle;\n",
       "    }\n",
       "\n",
       "    .dataframe tbody tr th {\n",
       "        vertical-align: top;\n",
       "    }\n",
       "\n",
       "    .dataframe thead th {\n",
       "        text-align: right;\n",
       "    }\n",
       "</style>\n",
       "<table border=\"1\" class=\"dataframe\">\n",
       "  <thead>\n",
       "    <tr style=\"text-align: right;\">\n",
       "      <th></th>\n",
       "      <th>city</th>\n",
       "      <th>state</th>\n",
       "      <th>country_new</th>\n",
       "    </tr>\n",
       "  </thead>\n",
       "  <tbody>\n",
       "    <tr>\n",
       "      <th>15710</th>\n",
       "      <td>Sunnyvale</td>\n",
       "      <td>CA</td>\n",
       "      <td>United States</td>\n",
       "    </tr>\n",
       "    <tr>\n",
       "      <th>23532</th>\n",
       "      <td>Redmond</td>\n",
       "      <td>WA</td>\n",
       "      <td>United States</td>\n",
       "    </tr>\n",
       "    <tr>\n",
       "      <th>23533</th>\n",
       "      <td>San Bruno</td>\n",
       "      <td>CA</td>\n",
       "      <td>United States</td>\n",
       "    </tr>\n",
       "    <tr>\n",
       "      <th>23534</th>\n",
       "      <td>Seattle</td>\n",
       "      <td>WA</td>\n",
       "      <td>United States</td>\n",
       "    </tr>\n",
       "    <tr>\n",
       "      <th>23535</th>\n",
       "      <td>San Francisco</td>\n",
       "      <td>CA</td>\n",
       "      <td>United States</td>\n",
       "    </tr>\n",
       "    <tr>\n",
       "      <th>...</th>\n",
       "      <td>...</td>\n",
       "      <td>...</td>\n",
       "      <td>...</td>\n",
       "    </tr>\n",
       "    <tr>\n",
       "      <th>61981</th>\n",
       "      <td>Menlo Park</td>\n",
       "      <td>CA</td>\n",
       "      <td>United States</td>\n",
       "    </tr>\n",
       "    <tr>\n",
       "      <th>61982</th>\n",
       "      <td>San Francisco</td>\n",
       "      <td>CA</td>\n",
       "      <td>United States</td>\n",
       "    </tr>\n",
       "    <tr>\n",
       "      <th>61984</th>\n",
       "      <td>Denver</td>\n",
       "      <td>CO</td>\n",
       "      <td>United States</td>\n",
       "    </tr>\n",
       "    <tr>\n",
       "      <th>61987</th>\n",
       "      <td>Menlo Park</td>\n",
       "      <td>CA</td>\n",
       "      <td>United States</td>\n",
       "    </tr>\n",
       "    <tr>\n",
       "      <th>61991</th>\n",
       "      <td>Menlo Park</td>\n",
       "      <td>CA</td>\n",
       "      <td>United States</td>\n",
       "    </tr>\n",
       "  </tbody>\n",
       "</table>\n",
       "<p>21521 rows × 3 columns</p>\n",
       "</div>"
      ],
      "text/plain": [
       "                city state    country_new\n",
       "15710      Sunnyvale    CA  United States\n",
       "23532        Redmond    WA  United States\n",
       "23533      San Bruno    CA  United States\n",
       "23534        Seattle    WA  United States\n",
       "23535  San Francisco    CA  United States\n",
       "...              ...   ...            ...\n",
       "61981     Menlo Park    CA  United States\n",
       "61982  San Francisco    CA  United States\n",
       "61984         Denver    CO  United States\n",
       "61987     Menlo Park    CA  United States\n",
       "61991     Menlo Park    CA  United States\n",
       "\n",
       "[21521 rows x 3 columns]"
      ]
     },
     "execution_count": 62,
     "metadata": {},
     "output_type": "execute_result"
    }
   ],
   "source": [
    "df[['city', 'state', 'country_new']]\n"
   ]
  },
  {
   "cell_type": "code",
   "execution_count": 63,
   "metadata": {},
   "outputs": [
    {
     "data": {
      "text/plain": [
       "array(['CA', 'WA', 'TX', 'ON', 'BC', 'KA', 'AZ', 'NY', 'IL', 'HR', 'AP',\n",
       "       'MH', 'MA', 'NC', 'VA', 'CO', 'EN', 'FL', 'WI', 'HK', 'GD', 'DC',\n",
       "       'GY', 'OR', 'MI', 'MN', 'MO', 'BE', 'MC', 'PA', 'TN', 'TA', 'SG',\n",
       "       'UT', 'NJ', 'NH', 'DN', 'ZJ', 'KD', 'SP', 'BJ', 'PR', 'LA', 'GA',\n",
       "       'TY', 'AR', 'TS', 'ZH', 'MZ', 'IA', 'BY', 'NS', 'OH', 'BW', 'MD',\n",
       "       'LK', 'IN', 'KC', 'PI', 'QC', 'MT', 'SC', 'RI', 'SH', 'CT', 'DE',\n",
       "       'IS', 'OK', 'NV', 'DL', 'UP', 'WC', 'AL', 'NW', 'BU', 'SR', 'BR',\n",
       "       'JS', 'KS', 'MB', 'LV', 'JK', 'PO', 'VI', 'CE', 'MG', 'HA', 'TP',\n",
       "       'JM', 'HM', 'KL', 'HB', 'KY', 'HE', 'CK', 'GJ', 'DU', 'ST', 'AU',\n",
       "       'WV', 'DS', 'HH', 'NE', 'DF', 'LI', 'MM', 'KG', 'ES', 'QL', 'SN',\n",
       "       'JA', 'MS', 'AB', 'HC', 'ID', 'BS', 'GE', 'DA', 'NI', 'PM', 'KK',\n",
       "       'LU', 'SJ', 'LO', 'CU', 'NZ', 'LD', 'VE', 'BL', 'HI', 'KN', 'SV',\n",
       "       'MY', 'JH', 'NM', 'MK', 'PG', 'MX', 'HD', 'OS', 'NA', 'RS', 'BM',\n",
       "       'AN', 'ND', 'VT', 'SF', 'RM', 'VL', 'WH', 'TR', 'WB', 'NB', 'WY',\n",
       "       'VG', 'AA', 'GT', 'SK', 'AC', 'TT', 'VD', 'ME', 'TO', 'VC', 'CJ',\n",
       "       'CN', 'ER', 'TW', 'KH', 'JZ'], dtype=object)"
      ]
     },
     "execution_count": 63,
     "metadata": {},
     "output_type": "execute_result"
    }
   ],
   "source": [
    "df['state'].unique()\n"
   ]
  },
  {
   "cell_type": "code",
   "execution_count": 64,
   "metadata": {},
   "outputs": [
    {
     "data": {
      "text/plain": [
       "str"
      ]
     },
     "execution_count": 64,
     "metadata": {},
     "output_type": "execute_result"
    }
   ],
   "source": [
    "type(df['state'].iloc[0])\n"
   ]
  },
  {
   "cell_type": "code",
   "execution_count": 65,
   "metadata": {},
   "outputs": [
    {
     "data": {
      "text/html": [
       "<div>\n",
       "<style scoped>\n",
       "    .dataframe tbody tr th:only-of-type {\n",
       "        vertical-align: middle;\n",
       "    }\n",
       "\n",
       "    .dataframe tbody tr th {\n",
       "        vertical-align: top;\n",
       "    }\n",
       "\n",
       "    .dataframe thead th {\n",
       "        text-align: right;\n",
       "    }\n",
       "</style>\n",
       "<table border=\"1\" class=\"dataframe\">\n",
       "  <thead>\n",
       "    <tr style=\"text-align: right;\">\n",
       "      <th></th>\n",
       "      <th>timestamp</th>\n",
       "      <th>company</th>\n",
       "      <th>level</th>\n",
       "      <th>title</th>\n",
       "      <th>totalyearlycompensation</th>\n",
       "      <th>location</th>\n",
       "      <th>yearsofexperience</th>\n",
       "      <th>yearsatcompany</th>\n",
       "      <th>tag</th>\n",
       "      <th>basesalary</th>\n",
       "      <th>...</th>\n",
       "      <th>Race_Asian</th>\n",
       "      <th>Race_White</th>\n",
       "      <th>Race_Two_Or_More</th>\n",
       "      <th>Race_Black</th>\n",
       "      <th>Race_Hispanic</th>\n",
       "      <th>Race</th>\n",
       "      <th>Education</th>\n",
       "      <th>city</th>\n",
       "      <th>state</th>\n",
       "      <th>country_new</th>\n",
       "    </tr>\n",
       "  </thead>\n",
       "  <tbody>\n",
       "    <tr>\n",
       "      <th>23546</th>\n",
       "      <td>7/4/2020 1:17:27</td>\n",
       "      <td>Salesforce</td>\n",
       "      <td>Senior MTS</td>\n",
       "      <td>Software Engineer</td>\n",
       "      <td>68000</td>\n",
       "      <td>Bangalore, KA, India</td>\n",
       "      <td>8.0</td>\n",
       "      <td>1.0</td>\n",
       "      <td>Site Reliability (SRE)</td>\n",
       "      <td>45000.0</td>\n",
       "      <td>...</td>\n",
       "      <td>1</td>\n",
       "      <td>0</td>\n",
       "      <td>0</td>\n",
       "      <td>0</td>\n",
       "      <td>0</td>\n",
       "      <td>Asian</td>\n",
       "      <td>Master's Degree</td>\n",
       "      <td>Bangalore</td>\n",
       "      <td>KA</td>\n",
       "      <td>India</td>\n",
       "    </tr>\n",
       "    <tr>\n",
       "      <th>23564</th>\n",
       "      <td>7/4/2020 18:11:01</td>\n",
       "      <td>Google</td>\n",
       "      <td>L3</td>\n",
       "      <td>Software Engineer</td>\n",
       "      <td>46000</td>\n",
       "      <td>Bangalore, KA, India</td>\n",
       "      <td>2.0</td>\n",
       "      <td>0.0</td>\n",
       "      <td>Distributed Systems (Back-End)</td>\n",
       "      <td>27000.0</td>\n",
       "      <td>...</td>\n",
       "      <td>1</td>\n",
       "      <td>0</td>\n",
       "      <td>0</td>\n",
       "      <td>0</td>\n",
       "      <td>0</td>\n",
       "      <td>Asian</td>\n",
       "      <td>Bachelor's Degree</td>\n",
       "      <td>Bangalore</td>\n",
       "      <td>KA</td>\n",
       "      <td>India</td>\n",
       "    </tr>\n",
       "    <tr>\n",
       "      <th>23574</th>\n",
       "      <td>7/5/2020 0:35:38</td>\n",
       "      <td>Amazon</td>\n",
       "      <td>L5</td>\n",
       "      <td>Software Engineer</td>\n",
       "      <td>50000</td>\n",
       "      <td>Gurgaon, HR, India</td>\n",
       "      <td>3.0</td>\n",
       "      <td>3.0</td>\n",
       "      <td>Full Stack</td>\n",
       "      <td>36000.0</td>\n",
       "      <td>...</td>\n",
       "      <td>1</td>\n",
       "      <td>0</td>\n",
       "      <td>0</td>\n",
       "      <td>0</td>\n",
       "      <td>0</td>\n",
       "      <td>Asian</td>\n",
       "      <td>Bachelor's Degree</td>\n",
       "      <td>Gurgaon</td>\n",
       "      <td>HR</td>\n",
       "      <td>India</td>\n",
       "    </tr>\n",
       "    <tr>\n",
       "      <th>23575</th>\n",
       "      <td>7/5/2020 1:19:36</td>\n",
       "      <td>Salesforce</td>\n",
       "      <td>SMTS</td>\n",
       "      <td>Software Engineer</td>\n",
       "      <td>74000</td>\n",
       "      <td>Hyderabad, AP, India</td>\n",
       "      <td>7.0</td>\n",
       "      <td>0.0</td>\n",
       "      <td>Full Stack</td>\n",
       "      <td>53000.0</td>\n",
       "      <td>...</td>\n",
       "      <td>1</td>\n",
       "      <td>0</td>\n",
       "      <td>0</td>\n",
       "      <td>0</td>\n",
       "      <td>0</td>\n",
       "      <td>Asian</td>\n",
       "      <td>Master's Degree</td>\n",
       "      <td>Hyderabad</td>\n",
       "      <td>AP</td>\n",
       "      <td>India</td>\n",
       "    </tr>\n",
       "    <tr>\n",
       "      <th>23577</th>\n",
       "      <td>7/5/2020 4:24:17</td>\n",
       "      <td>BrowserStack</td>\n",
       "      <td>Software Engineer</td>\n",
       "      <td>Software Engineer</td>\n",
       "      <td>30000</td>\n",
       "      <td>Mumbai, MH, India</td>\n",
       "      <td>2.0</td>\n",
       "      <td>2.0</td>\n",
       "      <td>Backend</td>\n",
       "      <td>27000.0</td>\n",
       "      <td>...</td>\n",
       "      <td>1</td>\n",
       "      <td>0</td>\n",
       "      <td>0</td>\n",
       "      <td>0</td>\n",
       "      <td>0</td>\n",
       "      <td>Asian</td>\n",
       "      <td>Bachelor's Degree</td>\n",
       "      <td>Mumbai</td>\n",
       "      <td>MH</td>\n",
       "      <td>India</td>\n",
       "    </tr>\n",
       "    <tr>\n",
       "      <th>...</th>\n",
       "      <td>...</td>\n",
       "      <td>...</td>\n",
       "      <td>...</td>\n",
       "      <td>...</td>\n",
       "      <td>...</td>\n",
       "      <td>...</td>\n",
       "      <td>...</td>\n",
       "      <td>...</td>\n",
       "      <td>...</td>\n",
       "      <td>...</td>\n",
       "      <td>...</td>\n",
       "      <td>...</td>\n",
       "      <td>...</td>\n",
       "      <td>...</td>\n",
       "      <td>...</td>\n",
       "      <td>...</td>\n",
       "      <td>...</td>\n",
       "      <td>...</td>\n",
       "      <td>...</td>\n",
       "      <td>...</td>\n",
       "      <td>...</td>\n",
       "    </tr>\n",
       "    <tr>\n",
       "      <th>61697</th>\n",
       "      <td>8/16/2021 2:05:59</td>\n",
       "      <td>Amazon</td>\n",
       "      <td>L5</td>\n",
       "      <td>Software Engineer</td>\n",
       "      <td>63000</td>\n",
       "      <td>Bengaluru, KA, India</td>\n",
       "      <td>7.0</td>\n",
       "      <td>1.0</td>\n",
       "      <td>Distributed Systems (Back-End)</td>\n",
       "      <td>38000.0</td>\n",
       "      <td>...</td>\n",
       "      <td>1</td>\n",
       "      <td>0</td>\n",
       "      <td>0</td>\n",
       "      <td>0</td>\n",
       "      <td>0</td>\n",
       "      <td>Asian</td>\n",
       "      <td>Bachelor's Degree</td>\n",
       "      <td>Bengaluru</td>\n",
       "      <td>KA</td>\n",
       "      <td>India</td>\n",
       "    </tr>\n",
       "    <tr>\n",
       "      <th>61698</th>\n",
       "      <td>8/16/2021 2:22:41</td>\n",
       "      <td>PayPal</td>\n",
       "      <td>T24</td>\n",
       "      <td>Software Engineer</td>\n",
       "      <td>67000</td>\n",
       "      <td>Bengaluru, KA, India</td>\n",
       "      <td>7.0</td>\n",
       "      <td>0.0</td>\n",
       "      <td>API Development (Back-End)</td>\n",
       "      <td>47000.0</td>\n",
       "      <td>...</td>\n",
       "      <td>1</td>\n",
       "      <td>0</td>\n",
       "      <td>0</td>\n",
       "      <td>0</td>\n",
       "      <td>0</td>\n",
       "      <td>Asian</td>\n",
       "      <td>Bachelor's Degree</td>\n",
       "      <td>Bengaluru</td>\n",
       "      <td>KA</td>\n",
       "      <td>India</td>\n",
       "    </tr>\n",
       "    <tr>\n",
       "      <th>61705</th>\n",
       "      <td>8/16/2021 5:51:19</td>\n",
       "      <td>MakeMyTrip</td>\n",
       "      <td>Manager</td>\n",
       "      <td>Software Engineer</td>\n",
       "      <td>81000</td>\n",
       "      <td>Bangalore, KA, India</td>\n",
       "      <td>10.0</td>\n",
       "      <td>2.0</td>\n",
       "      <td>Data</td>\n",
       "      <td>64000.0</td>\n",
       "      <td>...</td>\n",
       "      <td>1</td>\n",
       "      <td>0</td>\n",
       "      <td>0</td>\n",
       "      <td>0</td>\n",
       "      <td>0</td>\n",
       "      <td>Asian</td>\n",
       "      <td>Bachelor's Degree</td>\n",
       "      <td>Bangalore</td>\n",
       "      <td>KA</td>\n",
       "      <td>India</td>\n",
       "    </tr>\n",
       "    <tr>\n",
       "      <th>61789</th>\n",
       "      <td>8/16/2021 20:37:36</td>\n",
       "      <td>Zeta</td>\n",
       "      <td>Software Development Engineer II</td>\n",
       "      <td>Software Engineer</td>\n",
       "      <td>67000</td>\n",
       "      <td>Bangalore, KA, India</td>\n",
       "      <td>4.0</td>\n",
       "      <td>0.0</td>\n",
       "      <td>Distributed Systems (Back-End)</td>\n",
       "      <td>56000.0</td>\n",
       "      <td>...</td>\n",
       "      <td>1</td>\n",
       "      <td>0</td>\n",
       "      <td>0</td>\n",
       "      <td>0</td>\n",
       "      <td>0</td>\n",
       "      <td>Asian</td>\n",
       "      <td>Master's Degree</td>\n",
       "      <td>Bangalore</td>\n",
       "      <td>KA</td>\n",
       "      <td>India</td>\n",
       "    </tr>\n",
       "    <tr>\n",
       "      <th>61806</th>\n",
       "      <td>8/16/2021 22:44:22</td>\n",
       "      <td>Amazon</td>\n",
       "      <td>L6</td>\n",
       "      <td>Product Manager</td>\n",
       "      <td>155000</td>\n",
       "      <td>Hyderabad, TS, India</td>\n",
       "      <td>13.0</td>\n",
       "      <td>4.0</td>\n",
       "      <td>Product</td>\n",
       "      <td>104000.0</td>\n",
       "      <td>...</td>\n",
       "      <td>1</td>\n",
       "      <td>0</td>\n",
       "      <td>0</td>\n",
       "      <td>0</td>\n",
       "      <td>0</td>\n",
       "      <td>Asian</td>\n",
       "      <td>Master's Degree</td>\n",
       "      <td>Hyderabad</td>\n",
       "      <td>TS</td>\n",
       "      <td>India</td>\n",
       "    </tr>\n",
       "  </tbody>\n",
       "</table>\n",
       "<p>1527 rows × 32 columns</p>\n",
       "</div>"
      ],
      "text/plain": [
       "                timestamp       company                             level  \\\n",
       "23546    7/4/2020 1:17:27    Salesforce                        Senior MTS   \n",
       "23564   7/4/2020 18:11:01        Google                                L3   \n",
       "23574    7/5/2020 0:35:38        Amazon                                L5   \n",
       "23575    7/5/2020 1:19:36    Salesforce                              SMTS   \n",
       "23577    7/5/2020 4:24:17  BrowserStack                 Software Engineer   \n",
       "...                   ...           ...                               ...   \n",
       "61697   8/16/2021 2:05:59        Amazon                                L5   \n",
       "61698   8/16/2021 2:22:41        PayPal                               T24   \n",
       "61705   8/16/2021 5:51:19    MakeMyTrip                           Manager   \n",
       "61789  8/16/2021 20:37:36          Zeta  Software Development Engineer II   \n",
       "61806  8/16/2021 22:44:22        Amazon                                L6   \n",
       "\n",
       "                   title  totalyearlycompensation              location  \\\n",
       "23546  Software Engineer                    68000  Bangalore, KA, India   \n",
       "23564  Software Engineer                    46000  Bangalore, KA, India   \n",
       "23574  Software Engineer                    50000    Gurgaon, HR, India   \n",
       "23575  Software Engineer                    74000  Hyderabad, AP, India   \n",
       "23577  Software Engineer                    30000     Mumbai, MH, India   \n",
       "...                  ...                      ...                   ...   \n",
       "61697  Software Engineer                    63000  Bengaluru, KA, India   \n",
       "61698  Software Engineer                    67000  Bengaluru, KA, India   \n",
       "61705  Software Engineer                    81000  Bangalore, KA, India   \n",
       "61789  Software Engineer                    67000  Bangalore, KA, India   \n",
       "61806    Product Manager                   155000  Hyderabad, TS, India   \n",
       "\n",
       "       yearsofexperience  yearsatcompany                             tag  \\\n",
       "23546                8.0             1.0          Site Reliability (SRE)   \n",
       "23564                2.0             0.0  Distributed Systems (Back-End)   \n",
       "23574                3.0             3.0                      Full Stack   \n",
       "23575                7.0             0.0                      Full Stack   \n",
       "23577                2.0             2.0                         Backend   \n",
       "...                  ...             ...                             ...   \n",
       "61697                7.0             1.0  Distributed Systems (Back-End)   \n",
       "61698                7.0             0.0      API Development (Back-End)   \n",
       "61705               10.0             2.0                            Data   \n",
       "61789                4.0             0.0  Distributed Systems (Back-End)   \n",
       "61806               13.0             4.0                         Product   \n",
       "\n",
       "       basesalary  ...  Race_Asian  Race_White Race_Two_Or_More Race_Black  \\\n",
       "23546     45000.0  ...           1           0                0          0   \n",
       "23564     27000.0  ...           1           0                0          0   \n",
       "23574     36000.0  ...           1           0                0          0   \n",
       "23575     53000.0  ...           1           0                0          0   \n",
       "23577     27000.0  ...           1           0                0          0   \n",
       "...           ...  ...         ...         ...              ...        ...   \n",
       "61697     38000.0  ...           1           0                0          0   \n",
       "61698     47000.0  ...           1           0                0          0   \n",
       "61705     64000.0  ...           1           0                0          0   \n",
       "61789     56000.0  ...           1           0                0          0   \n",
       "61806    104000.0  ...           1           0                0          0   \n",
       "\n",
       "       Race_Hispanic   Race          Education       city  state  country_new  \n",
       "23546              0  Asian    Master's Degree  Bangalore     KA        India  \n",
       "23564              0  Asian  Bachelor's Degree  Bangalore     KA        India  \n",
       "23574              0  Asian  Bachelor's Degree    Gurgaon     HR        India  \n",
       "23575              0  Asian    Master's Degree  Hyderabad     AP        India  \n",
       "23577              0  Asian  Bachelor's Degree     Mumbai     MH        India  \n",
       "...              ...    ...                ...        ...    ...          ...  \n",
       "61697              0  Asian  Bachelor's Degree  Bengaluru     KA        India  \n",
       "61698              0  Asian  Bachelor's Degree  Bengaluru     KA        India  \n",
       "61705              0  Asian  Bachelor's Degree  Bangalore     KA        India  \n",
       "61789              0  Asian    Master's Degree  Bangalore     KA        India  \n",
       "61806              0  Asian    Master's Degree  Hyderabad     TS        India  \n",
       "\n",
       "[1527 rows x 32 columns]"
      ]
     },
     "execution_count": 65,
     "metadata": {},
     "output_type": "execute_result"
    }
   ],
   "source": [
    "df[df['country_new'] == \"India\"]\n"
   ]
  },
  {
   "cell_type": "code",
   "execution_count": 66,
   "metadata": {},
   "outputs": [],
   "source": [
    "for i in range(len(df)):\n",
    "    idx = i + 1\n",
    "    fetch_city = city_dict[df['city'].iloc[i]]\n",
    "    fetch_state = state_dict[df['state'].iloc[i]]\n",
    "    fetch_country = country_dict[df['country_new'].iloc[i]]\n",
    "    location_lot.append((idx, fetch_city, fetch_state, fetch_country))\n"
   ]
  },
  {
   "cell_type": "code",
   "execution_count": 67,
   "metadata": {},
   "outputs": [
    {
     "data": {
      "text/plain": [
       "12"
      ]
     },
     "execution_count": 67,
     "metadata": {},
     "output_type": "execute_result"
    }
   ],
   "source": [
    "fetch_city\n"
   ]
  },
  {
   "cell_type": "code",
   "execution_count": 68,
   "metadata": {},
   "outputs": [
    {
     "data": {
      "text/plain": [
       "array(['CA', 'WA', 'TX', 'ON', 'BC', 'KA', 'AZ', 'NY', 'IL', 'HR', 'AP',\n",
       "       'MH', 'MA', 'NC', 'VA', 'CO', 'EN', 'FL', 'WI', 'HK', 'GD', 'DC',\n",
       "       'GY', 'OR', 'MI', 'MN', 'MO', 'BE', 'MC', 'PA', 'TN', 'TA', 'SG',\n",
       "       'UT', 'NJ', 'NH', 'DN', 'ZJ', 'KD', 'SP', 'BJ', 'PR', 'LA', 'GA',\n",
       "       'TY', 'AR', 'TS', 'ZH', 'MZ', 'IA', 'BY', 'NS', 'OH', 'BW', 'MD',\n",
       "       'LK', 'IN', 'KC', 'PI', 'QC', 'MT', 'SC', 'RI', 'SH', 'CT', 'DE',\n",
       "       'IS', 'OK', 'NV', 'DL', 'UP', 'WC', 'AL', 'NW', 'BU', 'SR', 'BR',\n",
       "       'JS', 'KS', 'MB', 'LV', 'JK', 'PO', 'VI', 'CE', 'MG', 'HA', 'TP',\n",
       "       'JM', 'HM', 'KL', 'HB', 'KY', 'HE', 'CK', 'GJ', 'DU', 'ST', 'AU',\n",
       "       'WV', 'DS', 'HH', 'NE', 'DF', 'LI', 'MM', 'KG', 'ES', 'QL', 'SN',\n",
       "       'JA', 'MS', 'AB', 'HC', 'ID', 'BS', 'GE', 'DA', 'NI', 'PM', 'KK',\n",
       "       'LU', 'SJ', 'LO', 'CU', 'NZ', 'LD', 'VE', 'BL', 'HI', 'KN', 'SV',\n",
       "       'MY', 'JH', 'NM', 'MK', 'PG', 'MX', 'HD', 'OS', 'NA', 'RS', 'BM',\n",
       "       'AN', 'ND', 'VT', 'SF', 'RM', 'VL', 'WH', 'TR', 'WB', 'NB', 'WY',\n",
       "       'VG', 'AA', 'GT', 'SK', 'AC', 'TT', 'VD', 'ME', 'TO', 'VC', 'CJ',\n",
       "       'CN', 'ER', 'TW', 'KH', 'JZ'], dtype=object)"
      ]
     },
     "execution_count": 68,
     "metadata": {},
     "output_type": "execute_result"
    }
   ],
   "source": [
    "df['state'].unique()\n"
   ]
  },
  {
   "attachments": {},
   "cell_type": "markdown",
   "metadata": {},
   "source": [
    "# Create Location Table\n"
   ]
  },
  {
   "cell_type": "code",
   "execution_count": 69,
   "metadata": {},
   "outputs": [],
   "source": [
    "create_and_insert_table(\"\"\"CREATE TABLE Location (\n",
    "  location_id INT PRIMARY KEY,\n",
    "  city_id INT,\n",
    "  state_id INT,\n",
    "  country_id INT,\n",
    "  FOREIGN KEY (city_id) REFERENCES City(city_id)\n",
    "  FOREIGN KEY (state_id) REFERENCES State(state_id)\n",
    "  FOREIGN KEY (country_id) REFERENCES Country(country_id)\n",
    "  \n",
    "); \"\"\", \" INSERT INTO Location (location_id, city_id, state_id, country_id) VALUES (?,?,?,?)\", location_lot)"
   ]
  },
  {
   "attachments": {},
   "cell_type": "markdown",
   "metadata": {},
   "source": [
    "## SQL Employee Table "
   ]
  },
  {
   "attachments": {},
   "cell_type": "markdown",
   "metadata": {},
   "source": [
    "## Company Hashmap"
   ]
  },
  {
   "attachments": {},
   "cell_type": "markdown",
   "metadata": {},
   "source": []
  },
  {
   "cell_type": "code",
   "execution_count": 70,
   "metadata": {},
   "outputs": [
    {
     "name": "stdout",
     "output_type": "stream",
     "text": [
      " * sqlite:///jobs_database.db\n",
      "Done.\n"
     ]
    }
   ],
   "source": [
    "query = \"\"\"\n",
    "SELECT * \n",
    "FROM Company\n",
    "\"\"\"\n",
    "\n",
    "\n",
    "comp_df = %sql $query\n",
    "\n",
    "comp_df = pd.DataFrame(comp_df)\n",
    "comp_dict = {}\n",
    "for idx, val in enumerate(comp_df['company_name']):\n",
    "    comp_dict[val.strip()] = idx + 1\n"
   ]
  },
  {
   "attachments": {},
   "cell_type": "markdown",
   "metadata": {},
   "source": [
    "## Level Hashmap"
   ]
  },
  {
   "cell_type": "code",
   "execution_count": 71,
   "metadata": {},
   "outputs": [
    {
     "name": "stdout",
     "output_type": "stream",
     "text": [
      " * sqlite:///jobs_database.db\n",
      "Done.\n"
     ]
    }
   ],
   "source": [
    "query = \"\"\"\n",
    "SELECT * \n",
    "FROM Level\n",
    "\"\"\"\n",
    "\n",
    "\n",
    "level_df = %sql $query\n",
    "\n",
    "level_df = pd.DataFrame(level_df)\n",
    "\n",
    "level_dict = {}\n",
    "for idx, val in enumerate(level_df['level_name']):\n",
    "    level_dict[val.strip()] = idx + 1\n"
   ]
  },
  {
   "attachments": {},
   "cell_type": "markdown",
   "metadata": {},
   "source": [
    "## Title Hashmap"
   ]
  },
  {
   "cell_type": "code",
   "execution_count": 72,
   "metadata": {},
   "outputs": [
    {
     "name": "stdout",
     "output_type": "stream",
     "text": [
      " * sqlite:///jobs_database.db\n",
      "Done.\n"
     ]
    }
   ],
   "source": [
    "query = \"\"\"\n",
    "SELECT * \n",
    "FROM Title\n",
    "\"\"\"\n",
    "\n",
    "\n",
    "title_df = %sql $query\n",
    "\n",
    "title_df = pd.DataFrame(title_df)\n",
    "title_dict = {}\n",
    "for idx, val in enumerate(title_df['title_name']):\n",
    "    title_dict[val.strip()] = idx + 1\n"
   ]
  },
  {
   "attachments": {},
   "cell_type": "markdown",
   "metadata": {},
   "source": [
    "## Tag Hashmap"
   ]
  },
  {
   "cell_type": "code",
   "execution_count": 73,
   "metadata": {},
   "outputs": [
    {
     "name": "stdout",
     "output_type": "stream",
     "text": [
      " * sqlite:///jobs_database.db\n",
      "Done.\n"
     ]
    }
   ],
   "source": [
    "query = \"\"\"\n",
    "SELECT * \n",
    "FROM Tag\n",
    "\"\"\"\n",
    "\n",
    "\n",
    "tag_df = %sql $query\n",
    "\n",
    "tag_df = pd.DataFrame(tag_df)\n",
    "tag_dict = {}\n",
    "for idx, val in enumerate(tag_df['tag_name']):\n",
    "    tag_dict[val.strip()] = idx + 1\n"
   ]
  },
  {
   "attachments": {},
   "cell_type": "markdown",
   "metadata": {},
   "source": [
    "## Gender Hashmap"
   ]
  },
  {
   "cell_type": "code",
   "execution_count": 74,
   "metadata": {},
   "outputs": [
    {
     "name": "stdout",
     "output_type": "stream",
     "text": [
      " * sqlite:///jobs_database.db\n",
      "Done.\n"
     ]
    }
   ],
   "source": [
    "query = \"\"\"\n",
    "SELECT * \n",
    "FROM Gender\n",
    "\"\"\"\n",
    "\n",
    "\n",
    "gen_df = %sql $query\n",
    "\n",
    "gen_df = pd.DataFrame(gen_df)\n",
    "gender_dict = {}\n",
    "for idx, val in enumerate(gen_df['gender_type']):\n",
    "    gender_dict[val.strip()] = idx + 1\n"
   ]
  },
  {
   "attachments": {},
   "cell_type": "markdown",
   "metadata": {},
   "source": [
    "## Race Hashmap"
   ]
  },
  {
   "cell_type": "code",
   "execution_count": 75,
   "metadata": {},
   "outputs": [
    {
     "name": "stdout",
     "output_type": "stream",
     "text": [
      " * sqlite:///jobs_database.db\n",
      "Done.\n"
     ]
    }
   ],
   "source": [
    "query = \"\"\"\n",
    "SELECT * \n",
    "FROM Race\n",
    "\"\"\"\n",
    "\n",
    "\n",
    "race_df = %sql $query\n",
    "\n",
    "race_df = pd.DataFrame(race_df)\n",
    "race_dict = {}\n",
    "for idx, val in enumerate(race_df['race_name']):\n",
    "    race_dict[val.strip()] = idx + 1"
   ]
  },
  {
   "attachments": {},
   "cell_type": "markdown",
   "metadata": {},
   "source": [
    "## Education Hashmap"
   ]
  },
  {
   "cell_type": "code",
   "execution_count": 76,
   "metadata": {},
   "outputs": [
    {
     "name": "stdout",
     "output_type": "stream",
     "text": [
      " * sqlite:///jobs_database.db\n",
      "Done.\n"
     ]
    }
   ],
   "source": [
    "query = \"\"\"\n",
    "SELECT * \n",
    "FROM Education\n",
    "\"\"\"\n",
    "\n",
    "\n",
    "edu_df = %sql $query\n",
    "\n",
    "edu_df = pd.DataFrame(edu_df)\n",
    "edu_dict = {}\n",
    "for idx, val in enumerate(edu_df['edu_name']):\n",
    "    edu_dict[val.strip()] = idx + 1\n"
   ]
  },
  {
   "cell_type": "code",
   "execution_count": 77,
   "metadata": {},
   "outputs": [],
   "source": [
    "df['company'] = df['company'].replace('\\xa0Google', \"Google\")"
   ]
  },
  {
   "cell_type": "code",
   "execution_count": 78,
   "metadata": {},
   "outputs": [],
   "source": [
    "emp_lot = []\n",
    "\n",
    "for i in range(len(df)):\n",
    "\n",
    "    emp_id = i+1\n",
    "    fetch_timestamp = df['timestamp'].iloc[i]\n",
    "    fetch_company = comp_dict[df['company'].iloc[i]]\n",
    "    fetch_level = level_dict[df['level'].iloc[i]]\n",
    "    fetch_title = title_dict[df['title'].iloc[i]]\n",
    "    fetch_yearly_comp = float(df['totalyearlycompensation'].iloc[i])\n",
    "    fetch_location = i+1\n",
    "    fetch_exp = df['yearsofexperience'].iloc[i]\n",
    "    fetch_years_at_company = df['yearsatcompany'].iloc[i]\n",
    "    fetch_tag = tag_dict[df['tag'].iloc[i]]\n",
    "    fetch_base_salary = df['basesalary'].iloc[i]\n",
    "    fetch_stock_val = df['stockgrantvalue'].iloc[i]\n",
    "    fetch_bonus = df['bonus'].iloc[i]\n",
    "    fetch_gender = gender_dict[df['gender'].iloc[i]]\n",
    "    fetch_race = race_dict[df['Race'].iloc[i]]\n",
    "    fetch_education = edu_dict[df['Education'].iloc[i]]\n",
    "    \n",
    "    emp_lot.append((emp_id, \n",
    "                    fetch_timestamp, \n",
    "                    fetch_company, \n",
    "                    fetch_level,\n",
    "                    fetch_title,\n",
    "                    fetch_yearly_comp,\n",
    "                    fetch_location,\n",
    "                    fetch_exp,\n",
    "                    fetch_years_at_company,\n",
    "                    fetch_tag,\n",
    "                    fetch_base_salary,\n",
    "                    fetch_stock_val,\n",
    "                    fetch_bonus,\n",
    "                    fetch_gender,\n",
    "                    fetch_race,\n",
    "                    fetch_education\n",
    "                    ))\n",
    "\n"
   ]
  },
  {
   "cell_type": "code",
   "execution_count": 79,
   "metadata": {},
   "outputs": [
    {
     "data": {
      "text/plain": [
       "(1,\n",
       " '1/27/2020 22:59:06',\n",
       " 740,\n",
       " 1,\n",
       " 1,\n",
       " 400000.0,\n",
       " 1,\n",
       " 5.0,\n",
       " 5.0,\n",
       " 1,\n",
       " 210000.0,\n",
       " 145000.0,\n",
       " 45000.0,\n",
       " 1,\n",
       " 1,\n",
       " 1)"
      ]
     },
     "execution_count": 79,
     "metadata": {},
     "output_type": "execute_result"
    }
   ],
   "source": [
    "emp_lot[0]\n"
   ]
  },
  {
   "cell_type": "code",
   "execution_count": 80,
   "metadata": {},
   "outputs": [],
   "source": [
    "cq = \"\"\"\n",
    "CREATE TABLE Employee (\n",
    "  emp_id INT PRIMARY KEY,\n",
    "  timestamp TIMESTAMP,\n",
    "  company_id INT,\n",
    "  level_id INT,\n",
    "  title_id INT,\n",
    "  total_yearly_compensation INTEGER,\n",
    "  location_id INT,\n",
    "  years_of_experience INT,\n",
    "  years_at_company INT,\n",
    "  tag_id INT,\n",
    "  base_salary DECIMAL(10,2),\n",
    "  stock_grant_value DECIMAL(10,2),\n",
    "  bonus DECIMAL(10,2),\n",
    "  gender_id INT,\n",
    "  race_id INT,\n",
    "  edu_id INT,\n",
    "  FOREIGN KEY (company_id) REFERENCES Company(company_id),\n",
    "  FOREIGN KEY (level_id) REFERENCES Level(level_id),\n",
    "  FOREIGN KEY (title_id) REFERENCES Title(title_id),\n",
    "  FOREIGN KEY (location_id) REFERENCES Location(location_id),\n",
    "  FOREIGN KEY (tag_id) REFERENCES Tag(tag_id),\n",
    "  FOREIGN KEY (gender_id) REFERENCES Gender(gender_id),\n",
    "  FOREIGN KEY (race_id) REFERENCES Race(race_id),\n",
    "  FOREIGN KEY (edu_id) REFERENCES Education(edu_id)\n",
    ");\n",
    "\n",
    "\"\"\"\n",
    "iq = \"\"\" \n",
    "INSERT INTO Employee (emp_id, timestamp, company_id, level_id, title_id, total_yearly_compensation, location_id, years_of_experience, years_at_company, tag_id, base_salary, stock_grant_value, bonus, gender_id, race_id, edu_id) VALUES (?,?,?,?,?,?,?,?,?,?,?,?,?,?,?,?)\n",
    "\"\"\"\n",
    "\n",
    "\n",
    "\n",
    "create_and_insert_table(cq,iq , emp_lot)"
   ]
  },
  {
   "cell_type": "code",
   "execution_count": 81,
   "metadata": {},
   "outputs": [
    {
     "data": {
      "text/plain": [
       "16"
      ]
     },
     "execution_count": 81,
     "metadata": {},
     "output_type": "execute_result"
    }
   ],
   "source": [
    "len(emp_lot[3])"
   ]
  },
  {
   "cell_type": "code",
   "execution_count": 82,
   "metadata": {},
   "outputs": [
    {
     "data": {
      "text/plain": [
       "15710     400000\n",
       "23532     136000\n",
       "23533     337000\n",
       "23534     222000\n",
       "23535     187000\n",
       "          ...   \n",
       "61981    1470000\n",
       "61982    4500000\n",
       "61984    1605000\n",
       "61987    2372000\n",
       "61991    4980000\n",
       "Name: totalyearlycompensation, Length: 21521, dtype: int64"
      ]
     },
     "execution_count": 82,
     "metadata": {},
     "output_type": "execute_result"
    }
   ],
   "source": [
    "df['totalyearlycompensation']"
   ]
  },
  {
   "cell_type": "code",
   "execution_count": null,
   "metadata": {},
   "outputs": [],
   "source": []
  }
 ],
 "metadata": {
  "kernelspec": {
   "display_name": "base",
   "language": "python",
   "name": "python3"
  },
  "language_info": {
   "codemirror_mode": {
    "name": "ipython",
    "version": 3
   },
   "file_extension": ".py",
   "mimetype": "text/x-python",
   "name": "python",
   "nbconvert_exporter": "python",
   "pygments_lexer": "ipython3",
   "version": "3.9.16"
  },
  "orig_nbformat": 4
 },
 "nbformat": 4,
 "nbformat_minor": 2
}
